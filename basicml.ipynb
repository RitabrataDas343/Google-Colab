{
  "nbformat": 4,
  "nbformat_minor": 0,
  "metadata": {
    "colab": {
      "name": "basicml.ipynb",
      "provenance": [],
      "authorship_tag": "ABX9TyMiq0R1lki/8wIAIDXXTheD",
      "include_colab_link": true
    },
    "kernelspec": {
      "name": "python3",
      "display_name": "Python 3"
    },
    "language_info": {
      "name": "python"
    }
  },
  "cells": [
    {
      "cell_type": "markdown",
      "metadata": {
        "id": "view-in-github",
        "colab_type": "text"
      },
      "source": [
        "<a href=\"https://colab.research.google.com/github/RitabrataDas343/Google-Colab/blob/main/basicml.ipynb\" target=\"_parent\"><img src=\"https://colab.research.google.com/assets/colab-badge.svg\" alt=\"Open In Colab\"/></a>"
      ]
    },
    {
      "cell_type": "code",
      "metadata": {
        "colab": {
          "base_uri": "https://localhost:8080/"
        },
        "id": "s386a5VsXyyL",
        "outputId": "9c92231c-c5a9-4f91-d4cf-71ced3cdbf07"
      },
      "source": [
        "print(\"Hello World\")"
      ],
      "execution_count": 2,
      "outputs": [
        {
          "output_type": "stream",
          "name": "stdout",
          "text": [
            "Hello World\n"
          ]
        }
      ]
    },
    {
      "cell_type": "code",
      "metadata": {
        "colab": {
          "base_uri": "https://localhost:8080/"
        },
        "id": "c1yjS3H4ZFnC",
        "outputId": "b71a10ab-0345-4b18-83b0-b1f224c3a03b"
      },
      "source": [
        "for i in range(0,5):\n",
        "  print(i+1)"
      ],
      "execution_count": 3,
      "outputs": [
        {
          "output_type": "stream",
          "name": "stdout",
          "text": [
            "1\n",
            "2\n",
            "3\n",
            "4\n",
            "5\n"
          ]
        }
      ]
    },
    {
      "cell_type": "code",
      "metadata": {
        "colab": {
          "base_uri": "https://localhost:8080/"
        },
        "id": "qRwU-Z_zZqHP",
        "outputId": "fcaf1b21-06be-45d5-8c3f-6f02cb8f5fed"
      },
      "source": [
        "for a in range(0,5):\n",
        "  print(\"hello World\"*3)"
      ],
      "execution_count": 5,
      "outputs": [
        {
          "output_type": "stream",
          "name": "stdout",
          "text": [
            "hello Worldhello Worldhello World\n",
            "hello Worldhello Worldhello World\n",
            "hello Worldhello Worldhello World\n",
            "hello Worldhello Worldhello World\n",
            "hello Worldhello Worldhello World\n"
          ]
        }
      ]
    },
    {
      "cell_type": "code",
      "metadata": {
        "colab": {
          "base_uri": "https://localhost:8080/"
        },
        "id": "EiNBQVHlZQIm",
        "outputId": "8be818c0-c1fb-493c-cd23-7cc6f8660cbf"
      },
      "source": [
        "n = int(input(\"Enter a number:\"))\n",
        "print(n+4)"
      ],
      "execution_count": 4,
      "outputs": [
        {
          "output_type": "stream",
          "name": "stdout",
          "text": [
            "Enter a number:32\n",
            "36\n"
          ]
        }
      ]
    }
  ]
}